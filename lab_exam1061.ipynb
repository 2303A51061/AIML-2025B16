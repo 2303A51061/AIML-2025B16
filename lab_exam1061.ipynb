{
  "nbformat": 4,
  "nbformat_minor": 0,
  "metadata": {
    "colab": {
      "provenance": [],
      "authorship_tag": "ABX9TyNrhiG1TLJJKIAMJ3kYY4b5",
      "include_colab_link": true
    },
    "kernelspec": {
      "name": "python3",
      "display_name": "Python 3"
    },
    "language_info": {
      "name": "python"
    }
  },
  "cells": [
    {
      "cell_type": "markdown",
      "metadata": {
        "id": "view-in-github",
        "colab_type": "text"
      },
      "source": [
        "<a href=\"https://colab.research.google.com/github/2303A51061/AIML-2025B16/blob/main/lab_exam1061.ipynb\" target=\"_parent\"><img src=\"https://colab.research.google.com/assets/colab-badge.svg\" alt=\"Open In Colab\"/></a>"
      ]
    },
    {
      "cell_type": "code",
      "execution_count": 1,
      "metadata": {
        "colab": {
          "base_uri": "https://localhost:8080/"
        },
        "id": "9TuMBb2yIJbE",
        "outputId": "7aacc28b-6376-411a-f234-4064b5c093cd"
      },
      "outputs": [
        {
          "output_type": "stream",
          "name": "stdout",
          "text": [
            "Top 5 reasons for buying a car:\n",
            "buying\n",
            "vhigh    432\n",
            "high     432\n",
            "med      432\n",
            "low      432\n",
            "Name: count, dtype: int64\n"
          ]
        }
      ],
      "source": [
        "import pandas as pd\n",
        "\n",
        "\n",
        "data = pd.read_csv('car.data', header=None, names=['buying', 'maint', 'doors', 'persons', 'lug_boot', 'safety', 'class'])\n",
        "\n",
        "\n",
        "top_buying_reasons = data['buying'].value_counts().head(5)\n",
        "print(\"Top 5 reasons for buying a car:\")\n",
        "print(top_buying_reasons)\n"
      ]
    },
    {
      "cell_type": "code",
      "source": [
        "\n",
        "top_class = data['class'].value_counts().idxmax()\n",
        "print(f\"The class with the most cars sold is: {top_class}\")\n"
      ],
      "metadata": {
        "colab": {
          "base_uri": "https://localhost:8080/"
        },
        "id": "MDg1I8RNIwNS",
        "outputId": "fa9f5a2e-db18-4c6a-a36e-41f2e8157c4b"
      },
      "execution_count": 2,
      "outputs": [
        {
          "output_type": "stream",
          "name": "stdout",
          "text": [
            "The class with the most cars sold is: unacc\n"
          ]
        }
      ]
    },
    {
      "cell_type": "code",
      "source": [
        "\n",
        "max_safety = data['safety'].value_counts().idxmax()\n",
        "min_safety = data['safety'].value_counts().idxmin()\n",
        "\n",
        "print(f\"Max safety choice: {max_safety}\")\n",
        "print(f\"Min safety choice: {min_safety}\")\n"
      ],
      "metadata": {
        "colab": {
          "base_uri": "https://localhost:8080/"
        },
        "id": "9d78uqghIz1q",
        "outputId": "33d9d33e-3448-47cc-c10d-4561aca4650f"
      },
      "execution_count": 3,
      "outputs": [
        {
          "output_type": "stream",
          "name": "stdout",
          "text": [
            "Max safety choice: low\n",
            "Min safety choice: low\n"
          ]
        }
      ]
    },
    {
      "cell_type": "code",
      "source": [
        "\n",
        "role_of_doors = data.groupby('buying')['doors'].value_counts()\n",
        "role_of_lug_boot = data.groupby('buying')['lug_boot'].value_counts()\n",
        "\n",
        "print(\"Role of doors in car buying:\")\n",
        "print(role_of_doors)\n",
        "print(\"\\nRole of lug_boot in car buying:\")\n",
        "print(role_of_lug_boot)\n"
      ],
      "metadata": {
        "colab": {
          "base_uri": "https://localhost:8080/"
        },
        "id": "fZ7kvwkvI2wC",
        "outputId": "495de68e-0aab-4195-f7d4-be9e3b77bac2"
      },
      "execution_count": 4,
      "outputs": [
        {
          "output_type": "stream",
          "name": "stdout",
          "text": [
            "Role of doors in car buying:\n",
            "buying  doors\n",
            "high    2        108\n",
            "        3        108\n",
            "        4        108\n",
            "        5more    108\n",
            "low     2        108\n",
            "        3        108\n",
            "        4        108\n",
            "        5more    108\n",
            "med     2        108\n",
            "        3        108\n",
            "        4        108\n",
            "        5more    108\n",
            "vhigh   2        108\n",
            "        3        108\n",
            "        4        108\n",
            "        5more    108\n",
            "Name: count, dtype: int64\n",
            "\n",
            "Role of lug_boot in car buying:\n",
            "buying  lug_boot\n",
            "high    big         144\n",
            "        med         144\n",
            "        small       144\n",
            "low     big         144\n",
            "        med         144\n",
            "        small       144\n",
            "med     big         144\n",
            "        med         144\n",
            "        small       144\n",
            "vhigh   big         144\n",
            "        med         144\n",
            "        small       144\n",
            "Name: count, dtype: int64\n"
          ]
        }
      ]
    },
    {
      "cell_type": "code",
      "source": [
        "\n",
        "max_maintenance = data['maint'].value_counts().idxmax()\n",
        "print(f\"The maintenance category with the most cars: {max_maintenance}\")\n"
      ],
      "metadata": {
        "colab": {
          "base_uri": "https://localhost:8080/"
        },
        "id": "lB-WmBjdI5sJ",
        "outputId": "7991b175-3b69-4bcc-c0b9-0a2b33773521"
      },
      "execution_count": 5,
      "outputs": [
        {
          "output_type": "stream",
          "name": "stdout",
          "text": [
            "The maintenance category with the most cars: vhigh\n"
          ]
        }
      ]
    },
    {
      "cell_type": "code",
      "source": [
        "from sklearn.model_selection import train_test_split\n",
        "from sklearn.tree import DecisionTreeClassifier\n",
        "from sklearn.metrics import accuracy_score\n",
        "\n",
        "data_encoded = data.apply(lambda col: pd.Categorical(col).codes)\n",
        "\n",
        "\n",
        "X = data_encoded.drop('class', axis=1)\n",
        "y = data_encoded['class']\n",
        "\n",
        "\n",
        "X_train, X_test, y_train, y_test = train_test_split(X, y, test_size=0.3, random_state=42)\n",
        "\n",
        "\n",
        "clf = DecisionTreeClassifier(random_state=42)\n",
        "\n",
        "\n",
        "clf.fit(X_train, y_train)\n",
        "\n",
        "\n",
        "y_pred = clf.predict(X_test)\n",
        "\n",
        "\n",
        "accuracy = accuracy_score(y_test, y_pred)\n",
        "print(f\"Model Accuracy: {accuracy}\")\n"
      ],
      "metadata": {
        "colab": {
          "base_uri": "https://localhost:8080/"
        },
        "id": "yg8y53PtI8aS",
        "outputId": "4ecb9c03-8e4c-49b4-ff17-9e5909aac760"
      },
      "execution_count": 6,
      "outputs": [
        {
          "output_type": "stream",
          "name": "stdout",
          "text": [
            "Model Accuracy: 0.9710982658959537\n"
          ]
        }
      ]
    }
  ]
}